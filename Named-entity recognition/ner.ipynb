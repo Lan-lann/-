{
 "cells": [
  {
   "metadata": {},
   "cell_type": "markdown",
   "source": "# 基于Transformers的命名实体识别(NER)模型",
   "id": "63f60480b4cf4a7d"
  },
  {
   "metadata": {},
   "cell_type": "markdown",
   "source": "## Step1 导入相关包",
   "id": "bb9c08b5299a07f9"
  },
  {
   "metadata": {
    "ExecuteTime": {
     "end_time": "2025-08-15T02:47:01.680289Z",
     "start_time": "2025-08-15T02:46:53.149916Z"
    }
   },
   "cell_type": "code",
   "source": [
    "import evaluate\n",
    "from transformers import AutoTokenizer, AutoModelForTokenClassification, TrainingArguments, Trainer, DataCollatorForTokenClassification\n",
    "from datasets import load_dataset"
   ],
   "id": "623a02f9ed1df10a",
   "outputs": [],
   "execution_count": 1
  },
  {
   "metadata": {},
   "cell_type": "markdown",
   "source": "## Step2 加载数据集",
   "id": "6c1b5b872b205859"
  },
  {
   "metadata": {
    "ExecuteTime": {
     "end_time": "2025-08-15T02:47:10.639302Z",
     "start_time": "2025-08-15T02:47:03.706211Z"
    }
   },
   "cell_type": "code",
   "source": [
    "ner_dataset = load_dataset(\"lansinuote/peoples-daily-ner\")\n",
    "ner_dataset"
   ],
   "id": "e58082dc36462f3b",
   "outputs": [
    {
     "data": {
      "text/plain": [
       "DatasetDict({\n",
       "    train: Dataset({\n",
       "        features: ['id', 'tokens', 'ner_tags'],\n",
       "        num_rows: 20865\n",
       "    })\n",
       "    validation: Dataset({\n",
       "        features: ['id', 'tokens', 'ner_tags'],\n",
       "        num_rows: 2319\n",
       "    })\n",
       "    test: Dataset({\n",
       "        features: ['id', 'tokens', 'ner_tags'],\n",
       "        num_rows: 4637\n",
       "    })\n",
       "})"
      ]
     },
     "execution_count": 2,
     "metadata": {},
     "output_type": "execute_result"
    }
   ],
   "execution_count": 2
  },
  {
   "metadata": {
    "ExecuteTime": {
     "end_time": "2025-08-15T02:47:10.686807Z",
     "start_time": "2025-08-15T02:47:10.671804Z"
    }
   },
   "cell_type": "code",
   "source": "ner_dataset[\"train\"]",
   "id": "e71ade74f880e22",
   "outputs": [
    {
     "data": {
      "text/plain": [
       "Dataset({\n",
       "    features: ['id', 'tokens', 'ner_tags'],\n",
       "    num_rows: 20865\n",
       "})"
      ]
     },
     "execution_count": 3,
     "metadata": {},
     "output_type": "execute_result"
    }
   ],
   "execution_count": 3
  },
  {
   "metadata": {
    "ExecuteTime": {
     "end_time": "2025-08-15T02:47:10.748806Z",
     "start_time": "2025-08-15T02:47:10.735800Z"
    }
   },
   "cell_type": "code",
   "source": [
    "label_list = ner_dataset[\"train\"].features[\"ner_tags\"].feature.names\n",
    "label_list"
   ],
   "id": "d54a0212f4e986d",
   "outputs": [
    {
     "data": {
      "text/plain": [
       "['O', 'B-PER', 'I-PER', 'B-ORG', 'I-ORG', 'B-LOC', 'I-LOC']"
      ]
     },
     "execution_count": 4,
     "metadata": {},
     "output_type": "execute_result"
    }
   ],
   "execution_count": 4
  },
  {
   "metadata": {},
   "cell_type": "markdown",
   "source": "## Step3 数据预处理",
   "id": "bb36b564e21676ca"
  },
  {
   "metadata": {
    "ExecuteTime": {
     "end_time": "2025-08-15T02:47:12.022177Z",
     "start_time": "2025-08-15T02:47:10.859238Z"
    }
   },
   "cell_type": "code",
   "source": "tokenizer = AutoTokenizer.from_pretrained(\"hfl/chinese-macbert-base\", chache_dir=\"./models\")",
   "id": "d9ca25639967c394",
   "outputs": [],
   "execution_count": 5
  },
  {
   "metadata": {
    "ExecuteTime": {
     "end_time": "2025-08-15T02:47:12.068179Z",
     "start_time": "2025-08-15T02:47:12.054175Z"
    }
   },
   "cell_type": "code",
   "source": "tokenizer(ner_dataset[\"train\"][0][\"tokens\"], is_split_into_words=True)",
   "id": "f849dd0361e70729",
   "outputs": [
    {
     "data": {
      "text/plain": [
       "{'input_ids': [101, 3862, 7157, 3683, 6612, 1765, 4157, 1762, 1336, 7305, 680, 7032, 7305, 722, 7313, 4638, 3862, 1818, 511, 102], 'token_type_ids': [0, 0, 0, 0, 0, 0, 0, 0, 0, 0, 0, 0, 0, 0, 0, 0, 0, 0, 0, 0], 'attention_mask': [1, 1, 1, 1, 1, 1, 1, 1, 1, 1, 1, 1, 1, 1, 1, 1, 1, 1, 1, 1]}"
      ]
     },
     "execution_count": 6,
     "metadata": {},
     "output_type": "execute_result"
    }
   ],
   "execution_count": 6
  },
  {
   "metadata": {
    "ExecuteTime": {
     "end_time": "2025-08-15T02:47:12.100185Z",
     "start_time": "2025-08-15T02:47:12.083181Z"
    }
   },
   "cell_type": "code",
   "source": [
    "res = tokenizer(\"interesting word\")\n",
    "res"
   ],
   "id": "feaf3660ec5c4e18",
   "outputs": [
    {
     "data": {
      "text/plain": [
       "{'input_ids': [101, 10673, 12865, 12921, 8181, 8681, 102], 'token_type_ids': [0, 0, 0, 0, 0, 0, 0], 'attention_mask': [1, 1, 1, 1, 1, 1, 1]}"
      ]
     },
     "execution_count": 7,
     "metadata": {},
     "output_type": "execute_result"
    }
   ],
   "execution_count": 7
  },
  {
   "metadata": {
    "ExecuteTime": {
     "end_time": "2025-08-15T02:47:12.148196Z",
     "start_time": "2025-08-15T02:47:12.133193Z"
    }
   },
   "cell_type": "code",
   "source": "res.word_ids()",
   "id": "5d0ecdd0a174d4a6",
   "outputs": [
    {
     "data": {
      "text/plain": [
       "[None, 0, 0, 0, 0, 1, None]"
      ]
     },
     "execution_count": 8,
     "metadata": {},
     "output_type": "execute_result"
    }
   ],
   "execution_count": 8
  },
  {
   "metadata": {
    "ExecuteTime": {
     "end_time": "2025-08-15T02:47:12.180212Z",
     "start_time": "2025-08-15T02:47:12.165204Z"
    }
   },
   "cell_type": "code",
   "source": [
    "def process_function(examples):\n",
    "    tokenized_examples = tokenizer(examples[\"tokens\"], max_length=128, truncation=True, is_split_into_words=True)\n",
    "    labels = []\n",
    "    for i, label in enumerate(examples[\"ner_tags\"]):\n",
    "        word_ids = tokenized_examples.word_ids(batch_index=i)\n",
    "        label_ids = []\n",
    "        for word_id in word_ids:\n",
    "            if word_id is None:\n",
    "                label_ids.append(-100)  # -100 will be ignored by the loss function\n",
    "            else:\n",
    "                label_ids.append(label[word_id])\n",
    "        labels.append(label_ids)\n",
    "    tokenized_examples[\"labels\"] = labels\n",
    "    return tokenized_examples"
   ],
   "id": "a8e877dcf3980efa",
   "outputs": [],
   "execution_count": 9
  },
  {
   "metadata": {
    "ExecuteTime": {
     "end_time": "2025-08-15T02:47:12.764330Z",
     "start_time": "2025-08-15T02:47:12.197216Z"
    }
   },
   "cell_type": "code",
   "source": [
    "tokenized_dataset = ner_dataset.map(process_function, batched=True)\n",
    "tokenized_dataset"
   ],
   "id": "aa25a3b2b8c4e6d6",
   "outputs": [
    {
     "data": {
      "text/plain": [
       "Map:   0%|          | 0/2319 [00:00<?, ? examples/s]"
      ],
      "application/vnd.jupyter.widget-view+json": {
       "version_major": 2,
       "version_minor": 0,
       "model_id": "336aed3f153b4a22820c4e9614e038be"
      }
     },
     "metadata": {},
     "output_type": "display_data"
    },
    {
     "data": {
      "text/plain": [
       "DatasetDict({\n",
       "    train: Dataset({\n",
       "        features: ['id', 'tokens', 'ner_tags', 'input_ids', 'token_type_ids', 'attention_mask', 'labels'],\n",
       "        num_rows: 20865\n",
       "    })\n",
       "    validation: Dataset({\n",
       "        features: ['id', 'tokens', 'ner_tags', 'input_ids', 'token_type_ids', 'attention_mask', 'labels'],\n",
       "        num_rows: 2319\n",
       "    })\n",
       "    test: Dataset({\n",
       "        features: ['id', 'tokens', 'ner_tags', 'input_ids', 'token_type_ids', 'attention_mask', 'labels'],\n",
       "        num_rows: 4637\n",
       "    })\n",
       "})"
      ]
     },
     "execution_count": 10,
     "metadata": {},
     "output_type": "execute_result"
    }
   ],
   "execution_count": 10
  },
  {
   "metadata": {
    "ExecuteTime": {
     "end_time": "2025-08-15T02:47:12.795337Z",
     "start_time": "2025-08-15T02:47:12.776332Z"
    }
   },
   "cell_type": "code",
   "source": "print(tokenized_dataset[\"train\"][0])",
   "id": "68824643941b483",
   "outputs": [
    {
     "name": "stdout",
     "output_type": "stream",
     "text": [
      "{'id': '0', 'tokens': ['海', '钓', '比', '赛', '地', '点', '在', '厦', '门', '与', '金', '门', '之', '间', '的', '海', '域', '。'], 'ner_tags': [0, 0, 0, 0, 0, 0, 0, 5, 6, 0, 5, 6, 0, 0, 0, 0, 0, 0], 'input_ids': [101, 3862, 7157, 3683, 6612, 1765, 4157, 1762, 1336, 7305, 680, 7032, 7305, 722, 7313, 4638, 3862, 1818, 511, 102], 'token_type_ids': [0, 0, 0, 0, 0, 0, 0, 0, 0, 0, 0, 0, 0, 0, 0, 0, 0, 0, 0, 0], 'attention_mask': [1, 1, 1, 1, 1, 1, 1, 1, 1, 1, 1, 1, 1, 1, 1, 1, 1, 1, 1, 1], 'labels': [-100, 0, 0, 0, 0, 0, 0, 0, 5, 6, 0, 5, 6, 0, 0, 0, 0, 0, 0, -100]}\n"
     ]
    }
   ],
   "execution_count": 11
  },
  {
   "metadata": {},
   "cell_type": "markdown",
   "source": "## Step4 创建模型",
   "id": "bc05a111aad5d6ee"
  },
  {
   "metadata": {
    "ExecuteTime": {
     "end_time": "2025-08-15T02:47:14.298612Z",
     "start_time": "2025-08-15T02:47:12.827347Z"
    }
   },
   "cell_type": "code",
   "source": "model = AutoModelForTokenClassification.from_pretrained(\"hfl/chinese-macbert-base\", num_labels=len(label_list))",
   "id": "fd42e7cd52f84e3d",
   "outputs": [
    {
     "name": "stderr",
     "output_type": "stream",
     "text": [
      "Some weights of BertForTokenClassification were not initialized from the model checkpoint at hfl/chinese-macbert-base and are newly initialized: ['classifier.bias', 'classifier.weight']\n",
      "You should probably TRAIN this model on a down-stream task to be able to use it for predictions and inference.\n"
     ]
    }
   ],
   "execution_count": 12
  },
  {
   "metadata": {},
   "cell_type": "markdown",
   "source": "## Step5 创建评估函数",
   "id": "b67a4522cad0a37f"
  },
  {
   "metadata": {
    "ExecuteTime": {
     "end_time": "2025-08-15T02:47:18.130255Z",
     "start_time": "2025-08-15T02:47:16.539020Z"
    }
   },
   "cell_type": "code",
   "source": "seqeval = evaluate.load(\"seqeval\")",
   "id": "a20e49b14e70c627",
   "outputs": [],
   "execution_count": 13
  },
  {
   "metadata": {
    "ExecuteTime": {
     "end_time": "2025-08-15T02:55:12.979584Z",
     "start_time": "2025-08-15T02:55:12.960573Z"
    }
   },
   "cell_type": "code",
   "source": [
    "import numpy as np\n",
    "def eval_metric(pred):\n",
    "    predictions, labels = pred\n",
    "    predictions = np.argmax(predictions, axis=-1)\n",
    "    true_predictions = [\n",
    "        [label_list[p] for (p, l) in zip(prediction, label) if l != -100]\n",
    "        for prediction, label in zip(predictions, labels)\n",
    "    ]\n",
    "    true_labels = [\n",
    "        [label_list[l] for (p, l) in zip(prediction, label) if l != -100]\n",
    "        for prediction, label in zip(predictions, labels)\n",
    "    ]\n",
    "    results = seqeval.compute(predictions=true_predictions, references=true_labels, mode=\"strict\", scheme=\"IOB2\")\n",
    "    return {\n",
    "        \"precision\": results[\"overall_precision\"],\n",
    "        \"recall\": results[\"overall_recall\"],\n",
    "        \"f1\": results[\"overall_f1\"],\n",
    "        \"accuracy\": results[\"overall_accuracy\"],\n",
    "    }"
   ],
   "id": "6c62f6fa934d1ab5",
   "outputs": [],
   "execution_count": 19
  },
  {
   "metadata": {},
   "cell_type": "markdown",
   "source": "## Step6 配置训练参数",
   "id": "6aecc6d9dcb22ff1"
  },
  {
   "metadata": {
    "ExecuteTime": {
     "end_time": "2025-08-15T02:55:15.519634Z",
     "start_time": "2025-08-15T02:55:15.440644Z"
    }
   },
   "cell_type": "code",
   "source": [
    "args = TrainingArguments(\n",
    "    output_dir=\"./models_for_ner\",\n",
    "    per_device_train_batch_size=16,\n",
    "    per_device_eval_batch_size=16,\n",
    "    eval_strategy=\"epoch\",\n",
    "    save_strategy=\"epoch\",\n",
    "    metric_for_best_model=\"f1\",\n",
    "    load_best_model_at_end=True,\n",
    "    logging_steps=50\n",
    ")"
   ],
   "id": "264928fee1463155",
   "outputs": [],
   "execution_count": 20
  },
  {
   "metadata": {},
   "cell_type": "markdown",
   "source": "## Step7 创建训练器",
   "id": "8d6cc64aa57fd2a5"
  },
  {
   "metadata": {
    "ExecuteTime": {
     "end_time": "2025-08-15T02:55:16.460758Z",
     "start_time": "2025-08-15T02:55:16.434076Z"
    }
   },
   "cell_type": "code",
   "source": [
    "trainer = Trainer(\n",
    "    model=model,\n",
    "    args=args,\n",
    "    train_dataset=tokenized_dataset[\"train\"],\n",
    "    eval_dataset=tokenized_dataset[\"validation\"],\n",
    "    compute_metrics=eval_metric,\n",
    "    data_collator=DataCollatorForTokenClassification(tokenizer)\n",
    ")"
   ],
   "id": "3ce6979b06cbf635",
   "outputs": [],
   "execution_count": 21
  },
  {
   "metadata": {},
   "cell_type": "markdown",
   "source": "## Step8 模型训练",
   "id": "b47e01e01cb16a93"
  },
  {
   "metadata": {
    "ExecuteTime": {
     "end_time": "2025-08-15T03:08:51.740631Z",
     "start_time": "2025-08-15T02:55:17.621004Z"
    }
   },
   "cell_type": "code",
   "source": "trainer.train()",
   "id": "a8467629d59f9b81",
   "outputs": [
    {
     "data": {
      "text/plain": [
       "<IPython.core.display.HTML object>"
      ],
      "text/html": [
       "\n",
       "    <div>\n",
       "      \n",
       "      <progress value='3915' max='3915' style='width:300px; height:20px; vertical-align: middle;'></progress>\n",
       "      [3915/3915 13:33, Epoch 3/3]\n",
       "    </div>\n",
       "    <table border=\"1\" class=\"dataframe\">\n",
       "  <thead>\n",
       " <tr style=\"text-align: left;\">\n",
       "      <th>Epoch</th>\n",
       "      <th>Training Loss</th>\n",
       "      <th>Validation Loss</th>\n",
       "      <th>Precision</th>\n",
       "      <th>Recall</th>\n",
       "      <th>F1</th>\n",
       "      <th>Accuracy</th>\n",
       "    </tr>\n",
       "  </thead>\n",
       "  <tbody>\n",
       "    <tr>\n",
       "      <td>1</td>\n",
       "      <td>0.013800</td>\n",
       "      <td>0.021058</td>\n",
       "      <td>0.952578</td>\n",
       "      <td>0.944763</td>\n",
       "      <td>0.948655</td>\n",
       "      <td>0.994228</td>\n",
       "    </tr>\n",
       "    <tr>\n",
       "      <td>2</td>\n",
       "      <td>0.006100</td>\n",
       "      <td>0.021551</td>\n",
       "      <td>0.955391</td>\n",
       "      <td>0.954608</td>\n",
       "      <td>0.954999</td>\n",
       "      <td>0.994742</td>\n",
       "    </tr>\n",
       "    <tr>\n",
       "      <td>3</td>\n",
       "      <td>0.004200</td>\n",
       "      <td>0.021881</td>\n",
       "      <td>0.962586</td>\n",
       "      <td>0.956795</td>\n",
       "      <td>0.959682</td>\n",
       "      <td>0.995145</td>\n",
       "    </tr>\n",
       "  </tbody>\n",
       "</table><p>"
      ]
     },
     "metadata": {},
     "output_type": "display_data"
    },
    {
     "data": {
      "text/plain": [
       "TrainOutput(global_step=3915, training_loss=0.008491937196688634, metrics={'train_runtime': 813.9133, 'train_samples_per_second': 76.906, 'train_steps_per_second': 4.81, 'total_flos': 3289035322521630.0, 'train_loss': 0.008491937196688634, 'epoch': 3.0})"
      ]
     },
     "execution_count": 22,
     "metadata": {},
     "output_type": "execute_result"
    }
   ],
   "execution_count": 22
  },
  {
   "metadata": {
    "ExecuteTime": {
     "end_time": "2025-08-15T03:11:22.732615Z",
     "start_time": "2025-08-15T03:11:03.098969Z"
    }
   },
   "cell_type": "code",
   "source": "trainer.evaluate(tokenized_dataset[\"test\"])",
   "id": "d382d9af0f43d27c",
   "outputs": [
    {
     "data": {
      "text/plain": [
       "<IPython.core.display.HTML object>"
      ],
      "text/html": [
       "\n",
       "    <div>\n",
       "      \n",
       "      <progress value='290' max='290' style='width:300px; height:20px; vertical-align: middle;'></progress>\n",
       "      [290/290 00:17]\n",
       "    </div>\n",
       "    "
      ]
     },
     "metadata": {},
     "output_type": "display_data"
    },
    {
     "data": {
      "text/plain": [
       "{'eval_loss': 0.02746177650988102,\n",
       " 'eval_precision': 0.9505744055570398,\n",
       " 'eval_recall': 0.9551677852348993,\n",
       " 'eval_f1': 0.9528655597214782,\n",
       " 'eval_accuracy': 0.9940477855151905,\n",
       " 'eval_runtime': 19.6216,\n",
       " 'eval_samples_per_second': 236.321,\n",
       " 'eval_steps_per_second': 14.78,\n",
       " 'epoch': 3.0}"
      ]
     },
     "execution_count": 23,
     "metadata": {},
     "output_type": "execute_result"
    }
   ],
   "execution_count": 23
  },
  {
   "metadata": {},
   "cell_type": "markdown",
   "source": "## Step9 模型预测",
   "id": "e1d6b8442abce3dd"
  },
  {
   "metadata": {
    "ExecuteTime": {
     "end_time": "2025-08-15T03:11:48.182623Z",
     "start_time": "2025-08-15T03:11:48.168620Z"
    }
   },
   "cell_type": "code",
   "source": "from transformers import pipeline",
   "id": "76c9aefa0e3b6eb2",
   "outputs": [],
   "execution_count": 24
  },
  {
   "metadata": {
    "ExecuteTime": {
     "end_time": "2025-08-15T03:12:05.075921Z",
     "start_time": "2025-08-15T03:12:05.062918Z"
    }
   },
   "cell_type": "code",
   "source": "model.config.id2label = {i: label for i, label in enumerate(label_list)}",
   "id": "15b6a757b7c4a042",
   "outputs": [],
   "execution_count": 25
  },
  {
   "metadata": {
    "ExecuteTime": {
     "end_time": "2025-08-15T03:12:43.459039Z",
     "start_time": "2025-08-15T03:12:43.445036Z"
    }
   },
   "cell_type": "code",
   "source": "ner_pipe = pipeline(\"token-classification\", model=model, tokenizer=tokenizer, aggregation_strategy=\"simple\", device=0)",
   "id": "901c5473b2d2d1c5",
   "outputs": [
    {
     "name": "stderr",
     "output_type": "stream",
     "text": [
      "Device set to use cuda:0\n"
     ]
    }
   ],
   "execution_count": 26
  },
  {
   "metadata": {
    "ExecuteTime": {
     "end_time": "2025-08-15T03:16:53.731831Z",
     "start_time": "2025-08-15T03:16:53.600468Z"
    }
   },
   "cell_type": "code",
   "source": [
    "res = ner_pipe(\"李明爱北京天安门，天安门上太阳升\")\n",
    "res"
   ],
   "id": "6ca09cf1bab01c98",
   "outputs": [
    {
     "data": {
      "text/plain": [
       "[{'entity_group': 'PER',\n",
       "  'score': 0.9996362,\n",
       "  'word': '李 明 爱',\n",
       "  'start': 0,\n",
       "  'end': 3},\n",
       " {'entity_group': 'LOC',\n",
       "  'score': 0.9997462,\n",
       "  'word': '北 京',\n",
       "  'start': 3,\n",
       "  'end': 5},\n",
       " {'entity_group': 'LOC',\n",
       "  'score': 0.9979512,\n",
       "  'word': '天 安 门',\n",
       "  'start': 5,\n",
       "  'end': 8},\n",
       " {'entity_group': 'LOC',\n",
       "  'score': 0.9990337,\n",
       "  'word': '天 安 门',\n",
       "  'start': 9,\n",
       "  'end': 12},\n",
       " {'entity_group': 'LOC',\n",
       "  'score': 0.9989405,\n",
       "  'word': '太 阳',\n",
       "  'start': 13,\n",
       "  'end': 15}]"
      ]
     },
     "execution_count": 37,
     "metadata": {},
     "output_type": "execute_result"
    }
   ],
   "execution_count": 37
  },
  {
   "metadata": {
    "ExecuteTime": {
     "end_time": "2025-08-15T03:17:01.238234Z",
     "start_time": "2025-08-15T03:17:01.228232Z"
    }
   },
   "cell_type": "code",
   "source": [
    "ner_result = {}\n",
    "x = \"小明爱北京天安门，天安门上太阳升\"\n",
    "for r in res:\n",
    "    if r[\"entity_group\"] not in ner_result:\n",
    "        ner_result[r[\"entity_group\"]] = []\n",
    "    ner_result[r[\"entity_group\"]].append((x[r[\"start\"]:r[\"end\"]]))"
   ],
   "id": "d2d9e8396017b01f",
   "outputs": [],
   "execution_count": 38
  },
  {
   "metadata": {
    "ExecuteTime": {
     "end_time": "2025-08-15T03:17:02.044467Z",
     "start_time": "2025-08-15T03:17:02.035465Z"
    }
   },
   "cell_type": "code",
   "source": "ner_result",
   "id": "b81fc6f43f1390bd",
   "outputs": [
    {
     "data": {
      "text/plain": [
       "{'PER': ['小明爱'], 'LOC': ['北京', '天安门', '天安门', '太阳']}"
      ]
     },
     "execution_count": 39,
     "metadata": {},
     "output_type": "execute_result"
    }
   ],
   "execution_count": 39
  },
  {
   "metadata": {},
   "cell_type": "code",
   "outputs": [],
   "execution_count": null,
   "source": "",
   "id": "9fd1af805a2c5176"
  }
 ],
 "metadata": {
  "kernelspec": {
   "display_name": "Python 3",
   "language": "python",
   "name": "python3"
  },
  "language_info": {
   "codemirror_mode": {
    "name": "ipython",
    "version": 2
   },
   "file_extension": ".py",
   "mimetype": "text/x-python",
   "name": "python",
   "nbconvert_exporter": "python",
   "pygments_lexer": "ipython2",
   "version": "2.7.6"
  }
 },
 "nbformat": 4,
 "nbformat_minor": 5
}
